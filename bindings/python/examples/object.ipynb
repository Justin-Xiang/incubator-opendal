{
 "cells": [
  {
   "cell_type": "code",
   "execution_count": null,
   "metadata": {},
   "outputs": [],
   "source": [
    "# Import the libraries\n",
    "\n",
    "import asyncio\n",
    "import opendal\n",
    "import logging"
   ]
  },
  {
   "cell_type": "code",
   "execution_count": null,
   "metadata": {},
   "outputs": [],
   "source": [
    "async def main():\n",
    "    # Init a logger.\n",
    "    logging.basicConfig(level=logging.DEBUG)\n",
    "\n",
    "    # Init an operator.\n",
    "    op = opendal.AsyncOperator(\"fs\", root=\"/tmp\")\n",
    "    logging.debug(f\"operator: {op}\")\n",
    "\n",
    "    # Write data into object test.\n",
    "    await op.write(\"test\", b\"Hello, World!\")\n",
    "\n",
    "    # Read data from object\n",
    "    bs = await op.read(\"test\")\n",
    "    logging.info(f\"content: {bs.decode()}\")\n",
    "\n",
    "    # Get object metadata.\n",
    "    meta = await op.stat(\"test\")\n",
    "    logging.info(f\"metadata: {meta}\")\n",
    "\n",
    "    return"
   ]
  },
  {
   "cell_type": "code",
   "execution_count": null,
   "metadata": {},
   "outputs": [],
   "source": [
    "await main()"
   ]
  }
 ],
 "metadata": {
  "language_info": {
   "name": "python"
  },
  "orig_nbformat": 4
 },
 "nbformat": 4,
 "nbformat_minor": 2
}
